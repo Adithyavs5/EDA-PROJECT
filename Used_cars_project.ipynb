{
 "cells": [
  {
   "cell_type": "markdown",
   "metadata": {},
   "source": [
    "# USED CARS DATASET"
   ]
  },
  {
   "cell_type": "markdown",
   "metadata": {},
   "source": [
    "### The dataset details 1,000 used car listings, capturing each car's make, model, year, and condition. It includes specifics like mileage, fuel type, transmission, and listed price, offering a snapshot of the car's attributes. Information on seller type, car condition, and previous owners helps assess the car's history and potential value. Date and time of listings allow for analysis of market trends over time. The dataset serves as a resource for understanding pricing, brand popularity, and the overall dynamics of the used car market."
   ]
  },
  {
   "cell_type": "markdown",
   "metadata": {},
   "source": [
    "### IMPORT LIBRARIES AND DATASET"
   ]
  },
  {
   "cell_type": "code",
   "execution_count": 1,
   "metadata": {},
   "outputs": [],
   "source": [
    "import pandas as pd\n",
    "import numpy as np\n",
    "import seaborn as sns\n",
    "import matplotlib.pyplot as plt\n",
    "df = pd.read_csv('C:\\\\Users\\\\Adithya\\\\Downloads\\\\used_cars_data.csv')\n"
   ]
  },
  {
   "cell_type": "markdown",
   "metadata": {},
   "source": [
    "### ANALYSING OF FIRST 20 DATA"
   ]
  },
  {
   "cell_type": "code",
   "execution_count": 2,
   "metadata": {},
   "outputs": [
    {
     "name": "stdout",
     "output_type": "stream",
     "text": [
      "          Date   Time       Car_Make Car_Model  Year  Mileage  Price  \\\n",
      "0   2024-01-04  13:07         Nissan    Sentra  2007   156169  44584   \n",
      "1   2024-09-30  17:14           Ford  Sportage  2017    38618  61971   \n",
      "2   2024-11-14  20:09         Nissan     F-150  2020    19194  34346   \n",
      "3   2024-07-09  08:52            BMW    Sentra  2012   142818  58040   \n",
      "4   2024-07-24  04:04     Volkswagen     Jetta  2012   115933  55066   \n",
      "5   2024-08-04  01:10          Honda     F-150  2007   130388   7482   \n",
      "6   2024-09-16  09:38          Honda   Elantra  2002   146759  51856   \n",
      "7   2024-10-05  23:52      Chevrolet   Elantra  2014    13536  43012   \n",
      "8   2023-12-16  18:58        Hyundai  Sportage  2014   136720  53662   \n",
      "9   2024-02-21  09:28      Chevrolet  3 Series  2018    96039  76964   \n",
      "10  2024-10-13  03:29        Hyundai   Corolla  2014   108210  79831   \n",
      "11  2024-01-29  22:19     Volkswagen   Elantra  2002   184919  72275   \n",
      "12  2024-04-24  22:25            BMW     Jetta  2015    50822  70843   \n",
      "13  2024-11-10  08:32  Mercedes-Benz     Civic  2014   124851   7047   \n",
      "14  2024-11-11  17:31            Kia  3 Series  2010    36553  70242   \n",
      "15  2024-10-10  14:05        Hyundai     Civic  2003   188040  16328   \n",
      "16  2024-08-07  19:02            Kia    Sentra  2015   140844  61193   \n",
      "17  2024-07-30  13:47          Honda     F-150  2020   125604  61886   \n",
      "18  2024-03-13  10:38          Honda     Jetta  2000    87746   7559   \n",
      "19  2024-01-23  08:01     Volkswagen     F-150  2003   185672  34207   \n",
      "\n",
      "   Fuel_Type Transmission   Color  Owner_Count      Location  Engine_Size  \\\n",
      "0     Hybrid       Manual    Grey            4   San Antonio          2.8   \n",
      "1     Hybrid    Automatic    Blue            4  Philadelphia          1.9   \n",
      "2     Hybrid    Automatic   White            1   San Antonio          2.5   \n",
      "3     Diesel       Manual    Blue            3      New York          3.6   \n",
      "4   Electric       Manual    Blue            4       Houston          3.1   \n",
      "5     Diesel    Automatic    Grey            2   Los Angeles          3.6   \n",
      "6   Electric    Automatic  Silver            5       Chicago          1.1   \n",
      "7     Diesel       Manual   White            2  Philadelphia          4.1   \n",
      "8     Diesel       Manual   White            1  Philadelphia          4.7   \n",
      "9     Diesel    Automatic   White            3      New York          4.6   \n",
      "10    Petrol       Manual  Silver            2       Chicago          4.0   \n",
      "11    Hybrid    Automatic    Blue            3     San Diego          2.3   \n",
      "12    Hybrid    Automatic  Silver            5       Chicago          4.3   \n",
      "13    Diesel    Automatic    Grey            5     San Diego          2.1   \n",
      "14    Hybrid       Manual     Red            5  Philadelphia          4.0   \n",
      "15    Hybrid    Automatic   White            2   Los Angeles          1.9   \n",
      "16  Electric    Automatic  Silver            4   San Antonio          1.1   \n",
      "17    Petrol       Manual     Red            2       Phoenix          3.9   \n",
      "18    Hybrid       Manual    Blue            3      New York          3.5   \n",
      "19    Diesel    Automatic    Blue            4     San Diego          4.5   \n",
      "\n",
      "    Power  Condition  \n",
      "0     164       Poor  \n",
      "1     201       Good  \n",
      "2     110       Fair  \n",
      "3     291  Excellent  \n",
      "4     129       Poor  \n",
      "5     168       Fair  \n",
      "6     362       Poor  \n",
      "7     203       Poor  \n",
      "8     225       Poor  \n",
      "9     385       Poor  \n",
      "10    333       Fair  \n",
      "11    346       Good  \n",
      "12    194       Fair  \n",
      "13     95  Excellent  \n",
      "14    261  Excellent  \n",
      "15    363       Fair  \n",
      "16    312       Fair  \n",
      "17    180       Good  \n",
      "18    293  Excellent  \n",
      "19    210  Excellent  \n"
     ]
    }
   ],
   "source": [
    "print(df.head(20))"
   ]
  },
  {
   "cell_type": "markdown",
   "metadata": {},
   "source": [
    "### ANALYSING OF LAST 20 DATA"
   ]
  },
  {
   "cell_type": "code",
   "execution_count": 3,
   "metadata": {},
   "outputs": [
    {
     "name": "stdout",
     "output_type": "stream",
     "text": [
      "           Date   Time       Car_Make Car_Model  Year  Mileage  Price  \\\n",
      "980  2024-04-10  10:05         Nissan  3 Series  2021    41048  20997   \n",
      "981  2023-12-10  12:42      Chevrolet   C-Class  2021    47935  30333   \n",
      "982  2024-01-27  03:11           Ford     Civic  2015    55661  61636   \n",
      "983  2024-03-31  04:30         Toyota  Sportage  2019    64316  25338   \n",
      "984  2024-06-30  10:59      Chevrolet     Jetta  2000    13448  52768   \n",
      "985  2024-11-10  07:00         Toyota   Corolla  2017   112109  50953   \n",
      "986  2024-07-31  08:24      Chevrolet   Corolla  2001     8935  19878   \n",
      "987  2024-07-02  07:28        Hyundai     Civic  2015    75741  61996   \n",
      "988  2023-12-01  08:21            BMW  Sportage  2011   113277  27448   \n",
      "989  2024-07-05  09:37            Kia   Elantra  2019    63341  49001   \n",
      "990  2023-12-03  23:36            Kia   Elantra  2010   199606  37349   \n",
      "991  2024-04-08  00:16         Nissan     Civic  2015   180987  28504   \n",
      "992  2024-10-21  20:23      Chevrolet     F-150  2018    58171  46025   \n",
      "993  2023-12-11  22:15            BMW   Elantra  2008    58624  18673   \n",
      "994  2024-07-30  01:42      Chevrolet  3 Series  2015    22337   6206   \n",
      "995  2024-07-14  03:29         Nissan    Accord  2005    51419  76536   \n",
      "996  2024-01-11  09:10           Ford  3 Series  2016   120155   9818   \n",
      "997  2024-01-30  12:43         Toyota    Sentra  2008   166758  38779   \n",
      "998  2023-12-24  16:59            BMW   Corolla  2012   133435  19891   \n",
      "999  2024-08-17  22:49  Mercedes-Benz  Sportage  2007   185319  16563   \n",
      "\n",
      "    Fuel_Type Transmission   Color  Owner_Count     Location  Engine_Size  \\\n",
      "980    Diesel    Automatic   Black            3     New York          2.8   \n",
      "981    Petrol    Automatic    Blue            4      Houston          3.5   \n",
      "982  Electric       Manual    Blue            4    San Diego          4.7   \n",
      "983    Hybrid       Manual    Grey            5    San Diego          4.6   \n",
      "984    Hybrid       Manual    Grey            2  Los Angeles          4.7   \n",
      "985  Electric    Automatic    Blue            3     New York          4.3   \n",
      "986    Diesel       Manual    Grey            2    San Diego          3.3   \n",
      "987  Electric    Automatic   Black            1     New York          1.2   \n",
      "988    Petrol       Manual   Black            1      Phoenix          2.3   \n",
      "989  Electric    Automatic    Blue            4      Phoenix          1.2   \n",
      "990    Diesel    Automatic  Silver            3  San Antonio          3.4   \n",
      "991    Hybrid    Automatic    Grey            3      Phoenix          3.9   \n",
      "992    Hybrid    Automatic   White            2  Los Angeles          4.2   \n",
      "993    Hybrid       Manual     Red            2     New York          1.4   \n",
      "994    Hybrid       Manual    Grey            3      Phoenix          3.1   \n",
      "995  Electric    Automatic   Black            4  San Antonio          3.9   \n",
      "996    Hybrid    Automatic   Black            4    San Diego          2.4   \n",
      "997    Petrol    Automatic   White            4     New York          3.5   \n",
      "998    Hybrid    Automatic  Silver            5  San Antonio          2.2   \n",
      "999  Electric    Automatic    Blue            2  San Antonio          2.6   \n",
      "\n",
      "     Power  Condition  \n",
      "980    358       Poor  \n",
      "981    341       Poor  \n",
      "982    338       Fair  \n",
      "983     94  Excellent  \n",
      "984    342       Poor  \n",
      "985    255       Poor  \n",
      "986    346       Good  \n",
      "987    187       Fair  \n",
      "988    341       Good  \n",
      "989    155       Fair  \n",
      "990    261  Excellent  \n",
      "991    151       Poor  \n",
      "992    121       Good  \n",
      "993    154       Good  \n",
      "994    395  Excellent  \n",
      "995    394       Fair  \n",
      "996    386       Fair  \n",
      "997    185       Poor  \n",
      "998    147       Good  \n",
      "999    346       Fair  \n"
     ]
    }
   ],
   "source": [
    "print(df.tail(20))"
   ]
  },
  {
   "cell_type": "markdown",
   "metadata": {},
   "source": [
    "### CHECKING INFORMATION"
   ]
  },
  {
   "cell_type": "code",
   "execution_count": 4,
   "metadata": {},
   "outputs": [
    {
     "name": "stdout",
     "output_type": "stream",
     "text": [
      "<class 'pandas.core.frame.DataFrame'>\n",
      "RangeIndex: 1000 entries, 0 to 999\n",
      "Data columns (total 15 columns):\n",
      " #   Column        Non-Null Count  Dtype  \n",
      "---  ------        --------------  -----  \n",
      " 0   Date          1000 non-null   object \n",
      " 1   Time          1000 non-null   object \n",
      " 2   Car_Make      1000 non-null   object \n",
      " 3   Car_Model     1000 non-null   object \n",
      " 4   Year          1000 non-null   int64  \n",
      " 5   Mileage       1000 non-null   int64  \n",
      " 6   Price         1000 non-null   int64  \n",
      " 7   Fuel_Type     1000 non-null   object \n",
      " 8   Transmission  1000 non-null   object \n",
      " 9   Color         1000 non-null   object \n",
      " 10  Owner_Count   1000 non-null   int64  \n",
      " 11  Location      1000 non-null   object \n",
      " 12  Engine_Size   1000 non-null   float64\n",
      " 13  Power         1000 non-null   int64  \n",
      " 14  Condition     1000 non-null   object \n",
      "dtypes: float64(1), int64(5), object(9)\n",
      "memory usage: 117.3+ KB\n",
      "None\n"
     ]
    }
   ],
   "source": [
    "print(df.info())"
   ]
  },
  {
   "cell_type": "code",
   "execution_count": 5,
   "metadata": {},
   "outputs": [
    {
     "name": "stdout",
     "output_type": "stream",
     "text": [
      "(1000, 15)\n"
     ]
    }
   ],
   "source": [
    "\n",
    "print(df.shape)"
   ]
  },
  {
   "cell_type": "markdown",
   "metadata": {},
   "source": [
    "### PLOTTING BOXPLOT"
   ]
  },
  {
   "cell_type": "code",
   "execution_count": 6,
   "metadata": {},
   "outputs": [
    {
     "data": {
      "image/png": "[encoded data removed]",
      "text/plain": [
       "<Figure size 640x480 with 1 Axes>"
      ]
     },
     "metadata": {},
     "output_type": "display_data"
    }
   ],
   "source": [
    "\n",
    "sns.boxenplot(data=df)\n",
    "plt.xticks(rotation=45)\n",
    "plt.show()"
   ]
  },
  {
   "cell_type": "markdown",
   "metadata": {},
   "source": [
    "### CHECKING FOR NULL VALUES"
   ]
  },
  {
   "cell_type": "code",
   "execution_count": 7,
   "metadata": {},
   "outputs": [
    {
     "data": {
      "text/html": [
       "<div>\n",
       "<style scoped>\n",
       "    .dataframe tbody tr th:only-of-type {\n",
       "        vertical-align: middle;\n",
       "    }\n",
       "\n",
       "    .dataframe tbody tr th {\n",
       "        vertical-align: top;\n",
       "    }\n",
       "\n",
       "    .dataframe thead th {\n",
       "        text-align: right;\n",
       "    }\n",
       "</style>\n",
       "<table border=\"1\" class=\"dataframe\">\n",
       "  <thead>\n",
       "    <tr style=\"text-align: right;\">\n",
       "      <th></th>\n",
       "      <th>Date</th>\n",
       "      <th>Time</th>\n",
       "      <th>Car_Make</th>\n",
       "      <th>Car_Model</th>\n",
       "      <th>Year</th>\n",
       "      <th>Mileage</th>\n",
       "      <th>Price</th>\n",
       "      <th>Fuel_Type</th>\n",
       "      <th>Transmission</th>\n",
       "      <th>Color</th>\n",
       "      <th>Owner_Count</th>\n",
       "      <th>Location</th>\n",
       "      <th>Engine_Size</th>\n",
       "      <th>Power</th>\n",
       "      <th>Condition</th>\n",
       "    </tr>\n",
       "  </thead>\n",
       "  <tbody>\n",
       "    <tr>\n",
       "      <th>0</th>\n",
       "      <td>False</td>\n",
       "      <td>False</td>\n",
       "      <td>False</td>\n",
       "      <td>False</td>\n",
       "      <td>False</td>\n",
       "      <td>False</td>\n",
       "      <td>False</td>\n",
       "      <td>False</td>\n",
       "      <td>False</td>\n",
       "      <td>False</td>\n",
       "      <td>False</td>\n",
       "      <td>False</td>\n",
       "      <td>False</td>\n",
       "      <td>False</td>\n",
       "      <td>False</td>\n",
       "    </tr>\n",
       "    <tr>\n",
       "      <th>1</th>\n",
       "      <td>False</td>\n",
       "      <td>False</td>\n",
       "      <td>False</td>\n",
       "      <td>False</td>\n",
       "      <td>False</td>\n",
       "      <td>False</td>\n",
       "      <td>False</td>\n",
       "      <td>False</td>\n",
       "      <td>False</td>\n",
       "      <td>False</td>\n",
       "      <td>False</td>\n",
       "      <td>False</td>\n",
       "      <td>False</td>\n",
       "      <td>False</td>\n",
       "      <td>False</td>\n",
       "    </tr>\n",
       "    <tr>\n",
       "      <th>2</th>\n",
       "      <td>False</td>\n",
       "      <td>False</td>\n",
       "      <td>False</td>\n",
       "      <td>False</td>\n",
       "      <td>False</td>\n",
       "      <td>False</td>\n",
       "      <td>False</td>\n",
       "      <td>False</td>\n",
       "      <td>False</td>\n",
       "      <td>False</td>\n",
       "      <td>False</td>\n",
       "      <td>False</td>\n",
       "      <td>False</td>\n",
       "      <td>False</td>\n",
       "      <td>False</td>\n",
       "    </tr>\n",
       "    <tr>\n",
       "      <th>3</th>\n",
       "      <td>False</td>\n",
       "      <td>False</td>\n",
       "      <td>False</td>\n",
       "      <td>False</td>\n",
       "      <td>False</td>\n",
       "      <td>False</td>\n",
       "      <td>False</td>\n",
       "      <td>False</td>\n",
       "      <td>False</td>\n",
       "      <td>False</td>\n",
       "      <td>False</td>\n",
       "      <td>False</td>\n",
       "      <td>False</td>\n",
       "      <td>False</td>\n",
       "      <td>False</td>\n",
       "    </tr>\n",
       "    <tr>\n",
       "      <th>4</th>\n",
       "      <td>False</td>\n",
       "      <td>False</td>\n",
       "      <td>False</td>\n",
       "      <td>False</td>\n",
       "      <td>False</td>\n",
       "      <td>False</td>\n",
       "      <td>False</td>\n",
       "      <td>False</td>\n",
       "      <td>False</td>\n",
       "      <td>False</td>\n",
       "      <td>False</td>\n",
       "      <td>False</td>\n",
       "      <td>False</td>\n",
       "      <td>False</td>\n",
       "      <td>False</td>\n",
       "    </tr>\n",
       "    <tr>\n",
       "      <th>...</th>\n",
       "      <td>...</td>\n",
       "      <td>...</td>\n",
       "      <td>...</td>\n",
       "      <td>...</td>\n",
       "      <td>...</td>\n",
       "      <td>...</td>\n",
       "      <td>...</td>\n",
       "      <td>...</td>\n",
       "      <td>...</td>\n",
       "      <td>...</td>\n",
       "      <td>...</td>\n",
       "      <td>...</td>\n",
       "      <td>...</td>\n",
       "      <td>...</td>\n",
       "      <td>...</td>\n",
       "    </tr>\n",
       "    <tr>\n",
       "      <th>995</th>\n",
       "      <td>False</td>\n",
       "      <td>False</td>\n",
       "      <td>False</td>\n",
       "      <td>False</td>\n",
       "      <td>False</td>\n",
       "      <td>False</td>\n",
       "      <td>False</td>\n",
       "      <td>False</td>\n",
       "      <td>False</td>\n",
       "      <td>False</td>\n",
       "      <td>False</td>\n",
       "      <td>False</td>\n",
       "      <td>False</td>\n",
       "      <td>False</td>\n",
       "      <td>False</td>\n",
       "    </tr>\n",
       "    <tr>\n",
       "      <th>996</th>\n",
       "      <td>False</td>\n",
       "      <td>False</td>\n",
       "      <td>False</td>\n",
       "      <td>False</td>\n",
       "      <td>False</td>\n",
       "      <td>False</td>\n",
       "      <td>False</td>\n",
       "      <td>False</td>\n",
       "      <td>False</td>\n",
       "      <td>False</td>\n",
       "      <td>False</td>\n",
       "      <td>False</td>\n",
       "      <td>False</td>\n",
       "      <td>False</td>\n",
       "      <td>False</td>\n",
       "    </tr>\n",
       "    <tr>\n",
       "      <th>997</th>\n",
       "      <td>False</td>\n",
       "      <td>False</td>\n",
       "      <td>False</td>\n",
       "      <td>False</td>\n",
       "      <td>False</td>\n",
       "      <td>False</td>\n",
       "      <td>False</td>\n",
       "      <td>False</td>\n",
       "      <td>False</td>\n",
       "      <td>False</td>\n",
       "      <td>False</td>\n",
       "      <td>False</td>\n",
       "      <td>False</td>\n",
       "      <td>False</td>\n",
       "      <td>False</td>\n",
       "    </tr>\n",
       "    <tr>\n",
       "      <th>998</th>\n",
       "      <td>False</td>\n",
       "      <td>False</td>\n",
       "      <td>False</td>\n",
       "      <td>False</td>\n",
       "      <td>False</td>\n",
       "      <td>False</td>\n",
       "      <td>False</td>\n",
       "      <td>False</td>\n",
       "      <td>False</td>\n",
       "      <td>False</td>\n",
       "      <td>False</td>\n",
       "      <td>False</td>\n",
       "      <td>False</td>\n",
       "      <td>False</td>\n",
       "      <td>False</td>\n",
       "    </tr>\n",
       "    <tr>\n",
       "      <th>999</th>\n",
       "      <td>False</td>\n",
       "      <td>False</td>\n",
       "      <td>False</td>\n",
       "      <td>False</td>\n",
       "      <td>False</td>\n",
       "      <td>False</td>\n",
       "      <td>False</td>\n",
       "      <td>False</td>\n",
       "      <td>False</td>\n",
       "      <td>False</td>\n",
       "      <td>False</td>\n",
       "      <td>False</td>\n",
       "      <td>False</td>\n",
       "      <td>False</td>\n",
       "      <td>False</td>\n",
       "    </tr>\n",
       "  </tbody>\n",
       "</table>\n",
       "<p>1000 rows × 15 columns</p>\n",
       "</div>"
      ],
      "text/plain": [
       "      Date   Time  Car_Make  Car_Model   Year  Mileage  Price  Fuel_Type  \\\n",
       "0    False  False     False      False  False    False  False      False   \n",
       "1    False  False     False      False  False    False  False      False   \n",
       "2    False  False     False      False  False    False  False      False   \n",
       "3    False  False     False      False  False    False  False      False   \n",
       "4    False  False     False      False  False    False  False      False   \n",
       "..     ...    ...       ...        ...    ...      ...    ...        ...   \n",
       "995  False  False     False      False  False    False  False      False   \n",
       "996  False  False     False      False  False    False  False      False   \n",
       "997  False  False     False      False  False    False  False      False   \n",
       "998  False  False     False      False  False    False  False      False   \n",
       "999  False  False     False      False  False    False  False      False   \n",
       "\n",
       "     Transmission  Color  Owner_Count  Location  Engine_Size  Power  Condition  \n",
       "0           False  False        False     False        False  False      False  \n",
       "1           False  False        False     False        False  False      False  \n",
       "2           False  False        False     False        False  False      False  \n",
       "3           False  False        False     False        False  False      False  \n",
       "4           False  False        False     False        False  False      False  \n",
       "..            ...    ...          ...       ...          ...    ...        ...  \n",
       "995         False  False        False     False        False  False      False  \n",
       "996         False  False        False     False        False  False      False  \n",
       "997         False  False        False     False        False  False      False  \n",
       "998         False  False        False     False        False  False      False  \n",
       "999         False  False        False     False        False  False      False  \n",
       "\n",
       "[1000 rows x 15 columns]"
      ]
     },
     "execution_count": 7,
     "metadata": {},
     "output_type": "execute_result"
    }
   ],
   "source": [
    "df.isna()"
   ]
  },
  {
   "cell_type": "markdown",
   "metadata": {},
   "source": [
    "### CLEANING EMPTY CELLS"
   ]
  },
  {
   "cell_type": "code",
   "execution_count": 8,
   "metadata": {},
   "outputs": [
    {
     "name": "stdout",
     "output_type": "stream",
     "text": [
      "None\n"
     ]
    }
   ],
   "source": [
    "new_df=df.dropna(inplace=True)\n",
    "print(new_df)"
   ]
  },
  {
   "cell_type": "markdown",
   "metadata": {},
   "source": [
    "#### 1. What is the average price of cars in the dataset?"
   ]
  },
  {
   "cell_type": "code",
   "execution_count": 9,
   "metadata": {},
   "outputs": [
    {
     "name": "stdout",
     "output_type": "stream",
     "text": [
      "The average price of cars in the dataset is: $40802.30\n"
     ]
    }
   ],
   "source": [
    "import pandas as pd\n",
    "\n",
    "average_price = df['Price'].mean()\n",
    "\n",
    "print(f\"The average price of cars in the dataset is: ${average_price:.2f}\")"
   ]
  },
  {
   "cell_type": "markdown",
   "metadata": {},
   "source": [
    "#### 2. What is the most common car make in the dataset?"
   ]
  },
  {
   "cell_type": "code",
   "execution_count": 10,
   "metadata": {},
   "outputs": [
    {
     "name": "stdout",
     "output_type": "stream",
     "text": [
      "The most common car make is: Mercedes-Benz with 116 occurrences.\n"
     ]
    }
   ],
   "source": [
    "import pandas as pd\n",
    "\n",
    "\n",
    "most_common_make = df['Car_Make'].value_counts().idxmax()\n",
    "make_count = df['Car_Make'].value_counts().max()\n",
    "\n",
    "print(f\"The most common car make is: {most_common_make} with {make_count} occurrences.\")"
   ]
  },
  {
   "cell_type": "markdown",
   "metadata": {},
   "source": [
    "#### 3.what is the distribution of car prices across different fuel types?"
   ]
  },
  {
   "cell_type": "code",
   "execution_count": 11,
   "metadata": {},
   "outputs": [
    {
     "name": "stdout",
     "output_type": "stream",
     "text": [
      "Distribution of Car Prices Across Different Fuel Types:\n",
      "           count          mean           std     min      25%      50%  \\\n",
      "Fuel_Type                                                                \n",
      "Diesel     236.0  41963.991525  22670.534684  2024.0  21018.0  42506.5   \n",
      "Electric   259.0  40882.451737  23418.420378  2463.0  18307.5  41229.0   \n",
      "Hybrid     267.0  39020.363296  23036.584712  2110.0  19255.5  39475.0   \n",
      "Petrol     238.0  41562.222689  22917.858850  2433.0  22509.5  42545.0   \n",
      "\n",
      "                75%      max  \n",
      "Fuel_Type                     \n",
      "Diesel     61211.00  79693.0  \n",
      "Electric   62292.00  79874.0  \n",
      "Hybrid     59922.00  79984.0  \n",
      "Petrol     61486.25  79983.0  \n"
     ]
    }
   ],
   "source": [
    "import pandas as pd\n",
    "\n",
    "\n",
    "price_distribution = df.groupby('Fuel_Type')['Price'].describe()\n",
    "\n",
    "print(\"Distribution of Car Prices Across Different Fuel Types:\")\n",
    "print(price_distribution)"
   ]
  },
  {
   "cell_type": "markdown",
   "metadata": {},
   "source": [
    "#### 4.what is the average mileage for cars by transmission type (Manual vs Automatic)?"
   ]
  },
  {
   "cell_type": "code",
   "execution_count": 12,
   "metadata": {},
   "outputs": [
    {
     "name": "stdout",
     "output_type": "stream",
     "text": [
      "Average Mileage for Cars by Transmission Type:\n",
      "Transmission\n",
      "Automatic    103883.186508\n",
      "Manual       102263.157258\n",
      "Name: Mileage, dtype: float64\n"
     ]
    }
   ],
   "source": [
    "import pandas as pd\n",
    "\n",
    "\n",
    "average_mileage = df.groupby('Transmission')['Mileage'].mean()\n",
    "\n",
    "print(\"Average Mileage for Cars by Transmission Type:\")\n",
    "print(average_mileage)"
   ]
  },
  {
   "cell_type": "markdown",
   "metadata": {},
   "source": [
    "#### 5.what is the average engine size for each car using pandas"
   ]
  },
  {
   "cell_type": "code",
   "execution_count": 13,
   "metadata": {},
   "outputs": [
    {
     "name": "stdout",
     "output_type": "stream",
     "text": [
      "Average Engine Size for Each Car Make and Model:\n",
      "Car_Make    Car_Model\n",
      "BMW         3 Series     3.257143\n",
      "            Accord       3.137500\n",
      "            C-Class      2.363636\n",
      "            Civic        2.783333\n",
      "            Corolla      2.800000\n",
      "                           ...   \n",
      "Volkswagen  Elantra      2.885714\n",
      "            F-150        2.973333\n",
      "            Jetta        3.157143\n",
      "            Sentra       2.818182\n",
      "            Sportage     2.828571\n",
      "Name: Engine_Size, Length: 100, dtype: float64\n"
     ]
    }
   ],
   "source": [
    "import pandas as pd\n",
    "\n",
    "\n",
    "average_engine_size = df.groupby(['Car_Make', 'Car_Model'])['Engine_Size'].mean()\n",
    "\n",
    "print(\"Average Engine Size for Each Car Make and Model:\")\n",
    "print(average_engine_size)\n"
   ]
  },
  {
   "cell_type": "markdown",
   "metadata": {},
   "source": [
    "#### 6.How does the average price of cars vary with car age (based on year)? "
   ]
  },
  {
   "cell_type": "code",
   "execution_count": 14,
   "metadata": {},
   "outputs": [
    {
     "name": "stdout",
     "output_type": "stream",
     "text": [
      "Average Price of Cars by Age:\n",
      "    Car_Age         Price\n",
      "0         2  42898.348837\n",
      "1         3  35033.178571\n",
      "2         4  38945.382979\n",
      "3         5  38299.080000\n",
      "4         6  42194.791667\n",
      "5         7  33848.706897\n",
      "6         8  36960.943396\n",
      "7         9  40407.880952\n",
      "8        10  43741.972222\n",
      "9        11  43034.058824\n",
      "10       12  36786.306122\n",
      "11       13  37938.136364\n",
      "12       14  43530.166667\n",
      "13       15  47993.272727\n",
      "14       16  38337.023810\n",
      "15       17  39950.644444\n",
      "16       18  43131.272727\n",
      "17       19  41872.750000\n",
      "18       20  44528.289474\n",
      "19       21  38706.170732\n",
      "20       22  48690.790698\n",
      "21       23  44549.810811\n",
      "22       24  48001.810811\n"
     ]
    }
   ],
   "source": [
    "import pandas as pd\n",
    "\n",
    "current_year = pd.Timestamp.now().year\n",
    "\n",
    "df['Car_Age'] = current_year - df['Year']\n",
    "\n",
    "average_price_by_age = df.groupby('Car_Age')['Price'].mean().reset_index()\n",
    "\n",
    "print(\"Average Price of Cars by Age:\")\n",
    "print(average_price_by_age)"
   ]
  },
  {
   "cell_type": "markdown",
   "metadata": {},
   "source": [
    "#### 7.what is the correlation between mileage and price of the car?"
   ]
  },
  {
   "cell_type": "code",
   "execution_count": 15,
   "metadata": {},
   "outputs": [
    {
     "name": "stdout",
     "output_type": "stream",
     "text": [
      "The correlation between mileage and price of the car is: -0.02\n"
     ]
    }
   ],
   "source": [
    "import pandas as pd\n",
    "\n",
    "\n",
    "correlation = df['Mileage'].corr(df['Price'])\n",
    "\n",
    "print(f\"The correlation between mileage and price of the car is: {correlation:.2f}\")"
   ]
  },
  {
   "cell_type": "markdown",
   "metadata": {},
   "source": [
    "#### 8.what is the distribution of the car conditions(excellent,good,fair,poor)?"
   ]
  },
  {
   "cell_type": "code",
   "execution_count": 16,
   "metadata": {},
   "outputs": [
    {
     "name": "stdout",
     "output_type": "stream",
     "text": [
      "Distribution of Car Conditions:\n",
      "Condition\n",
      "Poor         261\n",
      "Good         257\n",
      "Fair         248\n",
      "Excellent    234\n",
      "Name: count, dtype: int64\n"
     ]
    }
   ],
   "source": [
    "import pandas as pd\n",
    "\n",
    "\n",
    "condition_distribution = df['Condition'].value_counts()\n",
    "\n",
    "print(\"Distribution of Car Conditions:\")\n",
    "print(condition_distribution)"
   ]
  },
  {
   "cell_type": "markdown",
   "metadata": {},
   "source": [
    "#### 9.What is the most common car color in the dataset? "
   ]
  },
  {
   "cell_type": "code",
   "execution_count": 17,
   "metadata": {},
   "outputs": [
    {
     "name": "stdout",
     "output_type": "stream",
     "text": [
      "The most common car color is: Silver with 209 occurances.\n"
     ]
    }
   ],
   "source": [
    "import pandas as pd\n",
    "\n",
    "most_common_color = df['Color'].value_counts().idxmax()\n",
    "color_count = df['Color'].value_counts().max()\n",
    "\n",
    "print(f\"The most common car color is: {most_common_color} with {color_count} occurances.\")"
   ]
  },
  {
   "cell_type": "markdown",
   "metadata": {},
   "source": [
    "#### 10.How does the price vary by car make and model?"
   ]
  },
  {
   "cell_type": "code",
   "execution_count": 18,
   "metadata": {},
   "outputs": [
    {
     "name": "stdout",
     "output_type": "stream",
     "text": [
      "Average Price by Car Make and Model:\n",
      "         Car_Make Car_Model         Price\n",
      "99     Volkswagen  Sportage  56985.142857\n",
      "71         Nissan    Accord  56324.000000\n",
      "45        Hyundai   Elantra  56212.166667\n",
      "33          Honda     Civic  53559.400000\n",
      "78         Nissan    Sentra  52772.250000\n",
      "..            ...       ...           ...\n",
      "38          Honda    Sentra  26564.714286\n",
      "29           Ford  Sportage  26256.300000\n",
      "80         Toyota  3 Series  23510.545455\n",
      "72         Nissan   C-Class  22292.666667\n",
      "62  Mercedes-Benz   C-Class  22120.000000\n",
      "\n",
      "[100 rows x 3 columns]\n"
     ]
    }
   ],
   "source": [
    "import pandas as pd\n",
    "\n",
    "\n",
    "price_by_make_model = df.groupby(['Car_Make', 'Car_Model'])['Price'].mean().reset_index()\n",
    "\n",
    "price_by_make_model = price_by_make_model.sort_values(by='Price', ascending=False)\n",
    "\n",
    "print(\"Average Price by Car Make and Model:\")\n",
    "print(price_by_make_model)"
   ]
  },
  {
   "cell_type": "markdown",
   "metadata": {},
   "source": [
    "#### 11.What is the distribution of car engine sizes across different fuel types?"
   ]
  },
  {
   "cell_type": "code",
   "execution_count": 19,
   "metadata": {},
   "outputs": [
    {
     "name": "stdout",
     "output_type": "stream",
     "text": [
      "Distribution of Engine Sizes Across Different Fuel Types:\n",
      "           count      mean       std  min    25%  50%  75%  max\n",
      "Fuel_Type                                                      \n",
      "Diesel     236.0  3.038136  1.146942  1.0  2.000  3.0  3.9  5.0\n",
      "Electric   259.0  2.853282  1.099409  1.0  1.900  2.9  3.8  5.0\n",
      "Hybrid     267.0  3.032584  1.142031  1.0  2.100  3.0  4.0  5.0\n",
      "Petrol     238.0  2.992017  1.167591  1.0  2.025  3.0  4.0  5.0\n"
     ]
    }
   ],
   "source": [
    "import pandas as pd\n",
    "\n",
    "engine_size_distribution = df.groupby('Fuel_Type')['Engine_Size'].describe()\n",
    "\n",
    "print(\"Distribution of Engine Sizes Across Different Fuel Types:\")\n",
    "print(engine_size_distribution)"
   ]
  },
  {
   "cell_type": "markdown",
   "metadata": {},
   "source": [
    "#### 12.How does the price of cars differ by location (city/region)?"
   ]
  },
  {
   "cell_type": "code",
   "execution_count": 20,
   "metadata": {},
   "outputs": [
    {
     "name": "stdout",
     "output_type": "stream",
     "text": [
      "Average Price of Cars by Location:\n",
      "       Location         Price\n",
      "1       Houston  43829.123967\n",
      "4  Philadelphia  43344.905983\n",
      "5       Phoenix  43154.738095\n",
      "0       Chicago  43086.633929\n",
      "7     San Diego  39572.163934\n",
      "6   San Antonio  38756.984496\n",
      "3      New York  38751.868217\n",
      "2   Los Angeles  37069.298611\n"
     ]
    }
   ],
   "source": [
    "import pandas as pd\n",
    "\n",
    "\n",
    "average_price_by_location = df.groupby('Location')['Price'].mean().reset_index()\n",
    "\n",
    "average_price_by_location = average_price_by_location.sort_values(by='Price', ascending=False)\n",
    "\n",
    "print(\"Average Price of Cars by Location:\")\n",
    "print(average_price_by_location)"
   ]
  },
  {
   "cell_type": "markdown",
   "metadata": {},
   "source": [
    "#### 13.What is the average mileage of cars by car condition?"
   ]
  },
  {
   "cell_type": "code",
   "execution_count": 21,
   "metadata": {},
   "outputs": [
    {
     "name": "stdout",
     "output_type": "stream",
     "text": [
      "Average Mileage by Car Condition:\n",
      "   Condition        Mileage\n",
      "1       Fair  107401.278226\n",
      "3       Poor  103657.455939\n",
      "2       Good  101749.867704\n",
      "0  Excellent   99315.482906\n"
     ]
    }
   ],
   "source": [
    "import pandas as pd\n",
    "\n",
    "average_mileage_by_condition = df.groupby('Condition')['Mileage'].mean().reset_index()\n",
    "\n",
    "average_mileage_by_condition = average_mileage_by_condition.sort_values(by='Mileage', ascending=False)\n",
    "print(\"Average Mileage by Car Condition:\")\n",
    "print(average_mileage_by_condition)\n"
   ]
  },
  {
   "cell_type": "markdown",
   "metadata": {},
   "source": [
    "#### 14.Which transmission type (Manual vs Automatic) has higher average car prices?"
   ]
  },
  {
   "cell_type": "code",
   "execution_count": 22,
   "metadata": {},
   "outputs": [
    {
     "name": "stdout",
     "output_type": "stream",
     "text": [
      "Average Car Price by Transmission Type:\n",
      "  Transmission         Price\n",
      "0    Automatic  40619.075397\n",
      "1       Manual  40988.485887\n"
     ]
    }
   ],
   "source": [
    "import pandas as pd\n",
    "\n",
    "average_price_by_transmission = df.groupby('Transmission')['Price'].mean().reset_index()\n",
    "\n",
    "print(\"Average Car Price by Transmission Type:\")\n",
    "print(average_price_by_transmission)\n"
   ]
  },
  {
   "cell_type": "markdown",
   "metadata": {},
   "source": [
    "#### 15.How does the price of cars change with the number of kilometers driven (mileage)?"
   ]
  },
  {
   "cell_type": "code",
   "execution_count": 23,
   "metadata": {},
   "outputs": [
    {
     "name": "stdout",
     "output_type": "stream",
     "text": [
      "Correlation between Mileage and Price: -0.015383509691462741\n"
     ]
    }
   ],
   "source": [
    "import pandas as pd\n",
    "\n",
    "correlation = df['Mileage'].corr(df['Price'])\n",
    "\n",
    "print(f\"Correlation between Mileage and Price: {correlation}\")"
   ]
  },
  {
   "cell_type": "markdown",
   "metadata": {},
   "source": [
    "#### 16.How does the average price of used cars vary by brand?"
   ]
  },
  {
   "cell_type": "code",
   "execution_count": 24,
   "metadata": {},
   "outputs": [
    {
     "data": {
      "image/png": "[encoded data removed]",
      "text/plain": [
       "<Figure size 1200x600 with 1 Axes>"
      ]
     },
     "metadata": {},
     "output_type": "display_data"
    }
   ],
   "source": [
    "import matplotlib.pyplot as plt\n",
    "import pandas as pd\n",
    "\n",
    "\n",
    "\n",
    "plt.figure(figsize=(12, 6))\n",
    "plt.title('Average Price of Used Cars by Brand', fontsize=18)\n",
    "plt.xlabel('Brand',color='red', fontsize=12)\n",
    "plt.ylabel('Average Price (USD)', fontsize=12,color='red')\n",
    "plt.xticks(rotation=45)\n",
    "plt.show()"
   ]
  },
  {
   "cell_type": "markdown",
   "metadata": {},
   "source": [
    "#### 17.What is the proportion of fuel types among used cars?"
   ]
  },
  {
   "cell_type": "code",
   "execution_count": 25,
   "metadata": {},
   "outputs": [
    {
     "data": {
      "image/png": "[encoded data removed]",
      "text/plain": [
       "<Figure size 800x800 with 1 Axes>"
      ]
     },
     "metadata": {},
     "output_type": "display_data"
    }
   ],
   "source": [
    "import pandas as pd\n",
    "import matplotlib.pyplot as plt \n",
    "\n",
    "\n",
    "fuel_type_counts = df['Fuel_Type'].value_counts()\n",
    "\n",
    "\n",
    "plt.figure(figsize=(8, 8))\n",
    "plt.pie(fuel_type_counts, labels=fuel_type_counts.index, autopct='%1.1f%%', startangle=140, colors=['#ff9999','#66b3ff','#99ff99','#ffcc99'])\n",
    "\n",
    "\n",
    "plt.title('Distribution of Cars by Fuel Type')\n",
    "plt.show()\n"
   ]
  },
  {
   "cell_type": "markdown",
   "metadata": {},
   "source": [
    "### HEATMAP"
   ]
  },
  {
   "cell_type": "code",
   "execution_count": 26,
   "metadata": {},
   "outputs": [
    {
     "data": {
      "text/plain": [
       "<Axes: >"
      ]
     },
     "execution_count": 26,
     "metadata": {},
     "output_type": "execute_result"
    },
    {
     "data": {
      "image/png": "[encoded data removed]",
      "text/plain": [
       "<Figure size 640x480 with 2 Axes>"
      ]
     },
     "metadata": {},
     "output_type": "display_data"
    }
   ],
   "source": [
    "correlation=df.corr(numeric_only=True)\n",
    "sns.heatmap(correlation,annot=True)"
   ]
  },
  {
   "cell_type": "markdown",
   "metadata": {},
   "source": [
    "## CONCLUSION\n"
   ]
  },
  {
   "cell_type": "markdown",
   "metadata": {},
   "source": [
    "### Overview\n",
    "The used cars dataset comprises 1,000 entries with 15 key attributes that provide detailed information about each vehicle. These attributes include the brand, model, year, mileage, price, fuel type, transmission, and other features like color, dealer, and condition. The dataset captures a diverse range of vehicles, making it a valuable resource for understanding trends in the used car market. It offers insights into price variations, mileage distributions, and the types of vehicles available across different locations and dealerships.\n",
    "\n",
    "### Brand and Price Analysis\n",
    "The dataset features popular brands such as Toyota, Honda, Ford, Chevrolet, BMW, and Mercedes-Benz, highlighting a mix of economy and luxury vehicles. The average prices vary significantly, with economy brands like Hyundai and Kia generally priced lower, while luxury brands like BMW and Mercedes-Benz command higher prices. The price range spans from approximately $3,000 to $50,000, indicating a broad spectrum of options catering to different budget levels.\n",
    "\n",
    "### Mileage and Fuel Type Distribution\n",
    "Mileage, a critical factor in determining a car’s value, is well-distributed across various ranges. The majority of vehicles fall within the 40,000-100,000 miles range, with a smaller number exceeding 160,000 miles. This suggests a focus on moderately used vehicles. In terms of fuel type, Petrol dominates, followed by Diesel, Hybrid, and a growing presence of Electric cars. This distribution reflects the ongoing transition towards more fuel-efficient and eco-friendly options in the used car market.\n",
    "\n",
    "### Transmission, Condition, and Warranties\n",
    "The dataset also sheds light on transmission preferences, with Automatic transmissions being more common than Manual. Cars are predominantly in Good or Excellent condition, which is likely to attract buyers looking for reliable vehicles. Furthermore, a significant portion of the cars come with a warranty, enhancing their appeal and providing added assurance to potential buyers. These factors, combined with the diversity of dealers and locations, offer a comprehensive view of the used car market landscape.\n",
    "\n",
    "\n",
    "\n",
    "\n",
    "\n",
    "\n"
   ]
  }
 ],
 "metadata": {
  "kernelspec": {
   "display_name": "Python 3",
   "language": "python",
   "name": "python3"
  },
  "language_info": {
   "codemirror_mode": {
    "name": "ipython",
    "version": 3
   },
   "file_extension": ".py",
   "mimetype": "text/x-python",
   "name": "python",
   "nbconvert_exporter": "python",
   "pygments_lexer": "ipython3",
   "version": "3.10.11"
  }
 },
 "nbformat": 4,
 "nbformat_minor": 2
}
